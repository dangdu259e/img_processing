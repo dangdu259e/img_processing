{
 "cells": [
  {
   "cell_type": "markdown",
   "metadata": {
    "collapsed": true
   },
   "source": [
    "bài 3_ hw01. Viết đoạn mã lệnh (python) kiểm tra xem histogram một ảnh có bị dồn tập trung vào khoảng nào hay không\n",
    "(tức là các điểm ảnh chỉ có giá trị cường độ xám trong một khoảng, phía ngoài khoảng đó không có điểm nào)."
   ]
  },
  {
   "cell_type": "code",
   "execution_count": 16,
   "metadata": {},
   "outputs": [],
   "source": [
    "import numpy as np\n",
    "import cv2\n",
    "from matplotlib import pyplot as plt"
   ]
  },
  {
   "cell_type": "code",
   "execution_count": 17,
   "metadata": {},
   "outputs": [],
   "source": [
    "# read image\n",
    "image = cv2.imread('../image/8.png')\n",
    "\n",
    "# show image \n",
    "cv2.imshow(\"Test Image\", image)\n",
    "k = cv2.waitKey(0)  # output is ASCII(character)"
   ]
  },
  {
   "cell_type": "code",
   "execution_count": 18,
   "metadata": {
    "pycharm": {
     "name": "#%%\n"
    }
   },
   "outputs": [],
   "source": [
    "# convert BGR to GRAY\n",
    "gray_image = cv2.cvtColor(image, cv2.COLOR_BGR2GRAY)\n",
    "cv2.imshow(\"Grey Image\", gray_image)\n",
    "k = cv2.waitKey(0)  # output is ASCII(character)"
   ]
  },
  {
   "cell_type": "code",
   "execution_count": 19,
   "metadata": {
    "pycharm": {
     "name": "#%%\n"
    }
   },
   "outputs": [],
   "source": [
    "# create histogram \n",
    "histogram, bin_edges = np.histogram(image,bins = 256, range=(0, 255))"
   ]
  },
  {
   "cell_type": "code",
   "execution_count": 20,
   "metadata": {},
   "outputs": [
    {
     "data": {
      "image/png": "[encoded data removed]",
      "text/plain": [
       "<Figure size 432x288 with 1 Axes>"
      ]
     },
     "metadata": {
      "needs_background": "light"
     },
     "output_type": "display_data"
    }
   ],
   "source": [
    "# configure and draw the histogram figure\n",
    "plt.figure()\n",
    "plt.title(\"Grayscale Histogram\")\n",
    "plt.xlabel(\"Grayscale value\")\n",
    "plt.ylabel(\"pixel\")\n",
    "\n",
    "plt.xlim([0.0, 255.0]) #for 255 levels of gray scale\n",
    "plt.plot(bin_edges[0:-1], histogram) # plot histogram\n",
    "\n",
    "plt.show()"
   ]
  }
 ],
 "metadata": {
  "kernelspec": {
   "display_name": "Python 3 (ipykernel)",
   "language": "python",
   "name": "python3"
  },
  "language_info": {
   "codemirror_mode": {
    "name": "ipython",
    "version": 3
   },
   "file_extension": ".py",
   "mimetype": "text/x-python",
   "name": "python",
   "nbconvert_exporter": "python",
   "pygments_lexer": "ipython3",
   "version": "3.9.6"
  }
 },
 "nbformat": 4,
 "nbformat_minor": 1
}
